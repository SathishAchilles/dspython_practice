{
 "cells": [
  {
   "cell_type": "markdown",
   "metadata": {},
   "source": [
    "<img src=\"http://cfs22.simplicdn.net/ice9/new_logo.svgz \"/>\n",
    "\n",
    "# Assignment 02: Evaluate the Summer Olympics, London 2012 dataset\n",
    "\n",
    "*The comments/sections provided are your cues to perform the assignment. You don't need to limit yourself to the number of rows/cells provided. You can add additional rows in each section to add more lines of code.*\n",
    "\n",
    "*If at any point in time you need help on solving this assignment, view our demo video to understand the different steps of the code.*\n",
    "\n",
    "**Happy coding!**\n",
    "\n",
    "* * *"
   ]
  },
  {
   "cell_type": "markdown",
   "metadata": {},
   "source": [
    "#### 1: View and add the dataset"
   ]
  },
  {
   "cell_type": "code",
   "execution_count": 19,
   "metadata": {},
   "outputs": [],
   "source": [
    "#Import the necessary library\n",
    "import numpy as np"
   ]
  },
  {
   "cell_type": "code",
   "execution_count": 20,
   "metadata": {},
   "outputs": [],
   "source": [
    "#Manually add the Summer Olympics, London 2012 dataset as arrays\n",
    "countries = np.array(['Great Britain', 'China', 'Russia', 'United States', 'Korea', 'Japan', 'Germany'])\n",
    "country_code = np.array(['GBR', 'CHN', 'RUS', 'US', 'KOR', 'JPN', 'GER'])\n",
    "year = np.array(['2012', '2012', '2012', '2012', '2012', '2012', '2012'])\n",
    "gold_medal = np.array([29,38,24,46,13,7,11])\n",
    "silver_medal = np.array([17,28,25,28,8,14,11])\n",
    "bronze_medal = np.array([19,22,32,29,7,17,14])"
   ]
  },
  {
   "cell_type": "markdown",
   "metadata": {},
   "source": [
    "#### Find the country with maximum gold medals"
   ]
  },
  {
   "cell_type": "code",
   "execution_count": 21,
   "metadata": {},
   "outputs": [],
   "source": [
    "#Use the argmax() method to find the highest number of gold medals\n",
    "max_gold_medal_index = np.argmax(gold_medal, axis=None)"
   ]
  },
  {
   "cell_type": "code",
   "execution_count": 22,
   "metadata": {},
   "outputs": [
    {
     "name": "stdout",
     "output_type": "stream",
     "text": [
      "United States\n"
     ]
    }
   ],
   "source": [
    "#Print the name of the country\n",
    "country_with_max_gold_medal = countries[np.unravel_index(max_gold_medal_index, gold_medal.shape)]\n",
    "print(country_with_max_gold_medal)"
   ]
  },
  {
   "cell_type": "markdown",
   "metadata": {},
   "source": [
    "#### Find the countries with more than 20 gold medals"
   ]
  },
  {
   "cell_type": "code",
   "execution_count": 23,
   "metadata": {},
   "outputs": [
    {
     "name": "stdout",
     "output_type": "stream",
     "text": [
      "Great Britain,China,Russia,United States\n"
     ]
    }
   ],
   "source": [
    "#Use Boolean indexing technique to find the required output\n",
    "countries_with_more_than_20_golds = countries[gold_medal>20]\n",
    "print(','.join(countries_with_more_than_20_golds))"
   ]
  },
  {
   "cell_type": "markdown",
   "metadata": {},
   "source": [
    "#### Evaluate the dataset and print the name of each country with its gold medals and total number of medals"
   ]
  },
  {
   "cell_type": "code",
   "execution_count": 26,
   "metadata": {},
   "outputs": [
    {
     "name": "stdout",
     "output_type": "stream",
     "text": [
      "Great Britain gold_medal:  29 total_medals:  65\n",
      "China gold_medal:  38 total_medals:  88\n",
      "Russia gold_medal:  24 total_medals:  81\n",
      "United States gold_medal:  46 total_medals:  103\n",
      "Korea gold_medal:  13 total_medals:  28\n",
      "Japan gold_medal:  7 total_medals:  38\n",
      "Germany gold_medal:  11 total_medals:  36\n"
     ]
    }
   ],
   "source": [
    "#Use a for loop to create the required output\n",
    "for index, country in enumerate(countries):\n",
    "    print(country, 'gold_medal: ', gold_medal[index], 'total_medals: ', \n",
    "          np.sum([gold_medal[index], silver_medal[index], bronze_medal[index]]))\n",
    "    "
   ]
  },
  {
   "cell_type": "code",
   "execution_count": null,
   "metadata": {},
   "outputs": [],
   "source": []
  }
 ],
 "metadata": {
  "kernelspec": {
   "display_name": "Python 3",
   "language": "python",
   "name": "python3"
  },
  "language_info": {
   "codemirror_mode": {
    "name": "ipython",
    "version": 3
   },
   "file_extension": ".py",
   "mimetype": "text/x-python",
   "name": "python",
   "nbconvert_exporter": "python",
   "pygments_lexer": "ipython3",
   "version": "3.8.3"
  }
 },
 "nbformat": 4,
 "nbformat_minor": 1
}
